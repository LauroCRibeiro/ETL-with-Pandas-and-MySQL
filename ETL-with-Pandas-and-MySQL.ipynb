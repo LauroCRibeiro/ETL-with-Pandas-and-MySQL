{
 "cells": [
  {
   "cell_type": "markdown",
   "metadata": {},
   "source": [
    "# Table of Contents\n",
    "1. [Introduction: ETL with Python and MySQL](#p1)\n",
    "2. [Importing Libraries](#p2)\n",
    "3. [Connect to Database](#p3)\n",
    "4. [Data Preparation](#p4)\n",
    "5. [Data Visualization](#p5)\n",
    "6. [Visualization with Plotly](#p6)"
   ]
  },
  {
   "cell_type": "markdown",
   "metadata": {},
   "source": [
    "## <a name=\"p1\">Introduction: ETL with Python and MySQL</a>\n",
    "\n",
    "Data is the gold for the modern business world. Although, Data on its own is not very useful. Furthermore, application databases store data in a complex way to use for analytics.\n",
    " \n",
    "ETL tools are essential because they take data from multiple systems and combine them into a single database, data warehouse or data store for storage or analytics. These tools and services allow enterprises to set up a data pipeline and begin ingesting data quickly. `Analysts` and `BI Analysts` sort, join, reformat, filter, merge and aggregate data to make it more meaningful for business decisions. Subsequently, they include graphical interfaces for faster, more accessible results than traditional moving data methods through hand-coded data pipelines.\n",
    " \n",
    "Analysts and engineers can use Python to build their ETL pipelines; as it has dominated the industry for a few years now, hundreds of Python tools act as software, libraries, or framework for ETL. Moreover, Python allows them to control and customize each aspect of the pipeline, but a handmade one also requires more time and effort to create and maintain. \n",
    " \n",
    "I decided to work with `Pandas`, a Python library that provides you with data structures and analysis tools.; you can install it by typing the following command in your command prompt or Jupyter Notebook cell.\n",
    " \n",
    "- Command Prompt: pip install pandas\n",
    "- Jupyter Notebook: !pip install pandas\n",
    " \n",
    "Pandas simplify all processes like data cleansing by adding R-style data frames. Therefore, it is time-taking to use as you would have to write your code. But, it can write simple scripts quickly.\n",
    "So, when it comes to scalability and in-memory, Pandas’ performance may not keep up with expectations. It would help if you used pandas when you need to extract data, clean, transform it rapidly, and write it to an SQL database/Excel/csv. \n",
    " \n",
    "However, when you start working with large data sets, it usually makes more sense to use a more scalable approach.\n",
    " \n",
    "After you installed Pandas, you will need a local server and `MySQL` driver to extract data from our environment. My preference is `XAMPP` you can easily download, and to get the same driver as it is in my tutorial, either on your Command Prompt or Jupyter Notebook cell:\n",
    " \n",
    " \n",
    " - Command Prompt: pip install pymysql\n",
    " - Jupyter Notebook: !pip install pymysql \n",
    " \n",
    "There are other options and drivers to query a database, but I have a soft spot for MySQL; the setup will be slightly different, though they will work the same way, in case you have another choice. \n",
    " \n",
    " \n",
    "The SQL scripts will be in this same folder; I assume you can set it up yourselves, as I am not covering this topic. \n"
   ]
  },
  {
   "cell_type": "markdown",
   "metadata": {},
   "source": [
    "## <a name=\"p2\">Import Libraries</a>"
   ]
  },
  {
   "cell_type": "code",
   "execution_count": null,
   "metadata": {},
   "outputs": [],
   "source": [
    "import pandas as pd\n",
    "import numpy as np\n",
    "#!pip install pymysql\n",
    "import pymysql\n",
    "\n",
    "import seaborn as sns\n",
    "import matplotlib.pyplot as plt\n",
    "import plotly.graph_objs as go\n",
    "from plotly.offline import init_notebook_mode, iplot\n",
    "import matplotlib.gridspec as gridspec"
   ]
  },
  {
   "cell_type": "markdown",
   "metadata": {},
   "source": [
    "## <a name=\"p3\">Connect to Database</a>"
   ]
  },
  {
   "cell_type": "code",
   "execution_count": null,
   "metadata": {
    "scrolled": true
   },
   "outputs": [],
   "source": [
    "connection = pymysql.connect(host='localhost', user='Lauro', password='Lauro12345', db='world')\n",
    "\n",
    "city = pd.read_sql('select * from city', connection)\n",
    "country = pd.read_sql('select * from country', connection)\n",
    "countrylanguage = pd.read_sql('select * from country language', connection)\n",
    "\n",
    "# Close the Connection\n",
    "connection.close()"
   ]
  },
  {
   "cell_type": "code",
   "execution_count": null,
   "metadata": {},
   "outputs": [],
   "source": [
    "city.head()"
   ]
  },
  {
   "cell_type": "code",
   "execution_count": null,
   "metadata": {},
   "outputs": [],
   "source": [
    "country.head()"
   ]
  },
  {
   "cell_type": "code",
   "execution_count": null,
   "metadata": {},
   "outputs": [],
   "source": [
    "countrylanguage.head()"
   ]
  },
  {
   "cell_type": "markdown",
   "metadata": {},
   "source": [
    "## <a name=\"p4\">Data Preparation</a>"
   ]
  },
  {
   "cell_type": "code",
   "execution_count": null,
   "metadata": {},
   "outputs": [],
   "source": [
    "city = city.rename(columns={\"Name\": \"City\", \"CountryCode\": \"Code\", \"Population\":\"City_Population\"}, errors=\"raise\")\n",
    "country = country.rename(columns={\"Name\":\"Country\"})\n",
    "countrylanguage = countrylanguage.rename(columns={\"Name\":\"Country\"})"
   ]
  },
  {
   "cell_type": "code",
   "execution_count": null,
   "metadata": {},
   "outputs": [],
   "source": [
    "print(city.columns)\n",
    "print(\"-------------------------------------------------------------------\")\n",
    "print(country.columns)\n",
    "print(\"-------------------------------------------------------------------\")\n",
    "print(countrylanguage.columns)"
   ]
  },
  {
   "cell_type": "code",
   "execution_count": null,
   "metadata": {},
   "outputs": [],
   "source": [
    "a = pd.merge(city, country)\n",
    "df = pd.merge(a, countrylanguage)\n",
    "\n",
    "df.head()"
   ]
  },
  {
   "cell_type": "code",
   "execution_count": null,
   "metadata": {},
   "outputs": [],
   "source": [
    "df = df.drop(['Code', 'LocalName', 'HeadOfState','Code2','IndepYear', 'Capital'], axis=1)"
   ]
  },
  {
   "cell_type": "code",
   "execution_count": null,
   "metadata": {},
   "outputs": [],
   "source": [
    "df.info()"
   ]
  },
  {
   "cell_type": "code",
   "execution_count": null,
   "metadata": {},
   "outputs": [],
   "source": [
    "df.isna().sum()"
   ]
  },
  {
   "cell_type": "code",
   "execution_count": null,
   "metadata": {},
   "outputs": [],
   "source": [
    "df['LifeExpectancy'] = df['LifeExpectancy'].fillna(df['LifeExpectancy'].mean())\n",
    "\n",
    "df['LifeExpectancy'] = df['LifeExpectancy'].astype(np.int64)"
   ]
  },
  {
   "cell_type": "code",
   "execution_count": null,
   "metadata": {},
   "outputs": [],
   "source": [
    "df['GNPOld'] = df['GNPOld'].fillna(df['GNPOld'].mean())"
   ]
  },
  {
   "cell_type": "code",
   "execution_count": null,
   "metadata": {},
   "outputs": [],
   "source": [
    "df.isna().any().any()"
   ]
  },
  {
   "cell_type": "markdown",
   "metadata": {},
   "source": [
    "## <a name=\"p5\">Data Visualization</a>"
   ]
  },
  {
   "cell_type": "code",
   "execution_count": null,
   "metadata": {},
   "outputs": [],
   "source": [
    "import plotly.graph_objs as go\n",
    "from plotly.offline import init_notebook_mode, iplot\n",
    "import matplotlib.gridspec as gridspec"
   ]
  },
  {
   "cell_type": "code",
   "execution_count": null,
   "metadata": {},
   "outputs": [],
   "source": [
    "x = df[['LifeExpectancy','GNP','Population','Continent']]\n",
    "\n",
    "g=sns.pairplot(x, hue=\"Continent\", diag_kind='hist')\n",
    "g.fig.suptitle('Pairplot showing GNP per capita, Life Expectancy, Country against Continent',y=1.05)"
   ]
  },
  {
   "cell_type": "code",
   "execution_count": null,
   "metadata": {},
   "outputs": [],
   "source": [
    "f,ax = plt.subplots(figsize = (15,10))\n",
    "sns.heatmap(df.corr(),annot = True, linewidth = 0.5, fmt = \".1f\", ax=ax)  #seaborn \n",
    "plt.show()"
   ]
  },
  {
   "cell_type": "code",
   "execution_count": null,
   "metadata": {},
   "outputs": [],
   "source": [
    "#BAR GRAPH OF TOP 30 COUNTRIES WITH HIGHEST LIFE EXPECTANCY\n",
    "mostExp30Data = country.sort_values(\"LifeExpectancy\", ascending = False).head(30)\n",
    "\n",
    "plt.figure(figsize = (10, 10))\n",
    "sns.barplot(x = mostExp30Data[\"LifeExpectancy\"], y = mostExp30Data[\"Country\"])\n",
    "plt.xticks(rotation = 90)\n",
    "plt.title(\"Top 30 Countries with the Highest Life Expectancy\")\n",
    "plt.xlabel(\"Years\")\n",
    "plt.ylabel(\"Countries\")\n",
    "plt.show()"
   ]
  },
  {
   "cell_type": "code",
   "execution_count": null,
   "metadata": {},
   "outputs": [],
   "source": [
    "#BAR GRAPH OF TOP 30 COUNTRIES WITH LOWEST LIFE EXPECTANCY\n",
    "mostExp30Data = country.sort_values(\"LifeExpectancy\", ascending = True).head(30)\n",
    "\n",
    "plt.figure(figsize = (10, 10))\n",
    "sns.barplot(x = mostExp30Data[\"LifeExpectancy\"], y = mostExp30Data[\"Country\"])\n",
    "plt.xticks(rotation = 90)\n",
    "plt.title(\"Top 30 Countries with the Lowest Life Expectancy\")\n",
    "plt.xlabel(\"Years\")\n",
    "plt.ylabel(\"Countries\")\n",
    "plt.show()"
   ]
  },
  {
   "cell_type": "code",
   "execution_count": null,
   "metadata": {},
   "outputs": [],
   "source": [
    "#BAR GRAPH OF TOP 30 COUNTRIES WITH HIGHEST LIFE EXPECTANCY\n",
    "mostExp30Data = df.sort_values(\"LifeExpectancy\", ascending = False)\n",
    "\n",
    "plt.figure(figsize = (10, 10))\n",
    "sns.barplot(x = mostExp30Data[\"LifeExpectancy\"], y = mostExp30Data[\"Continent\"])\n",
    "plt.xticks(rotation = 90)\n",
    "plt.title(\"Top Continents with the Highest Life Expectancy\")\n",
    "plt.xlabel(\"Years\")\n",
    "plt.ylabel(\"Continents\")\n",
    "plt.show()"
   ]
  },
  {
   "cell_type": "code",
   "execution_count": null,
   "metadata": {},
   "outputs": [],
   "source": [
    "#BAR GRAPH OF CONTINENTAL POPULATION\n",
    "mostPopData = df.sort_values(\"GNP\", ascending = False)\n",
    "\n",
    "plt.figure(figsize = (10, 10))\n",
    "sns.barplot(x = mostPopData[\"GNP\"], y = mostPopData[\"Continent\"])\n",
    "plt.xticks(rotation = 90)\n",
    "plt.title(\"GNP per Continent\")\n",
    "plt.xlabel(\"GNP\")\n",
    "plt.ylabel(\"Continent\")\n",
    "plt.show()"
   ]
  },
  {
   "cell_type": "code",
   "execution_count": null,
   "metadata": {},
   "outputs": [],
   "source": [
    "#BAR GRAPH OF TOP 30 COUNTRIES WITH HIGHEST GNP\n",
    "mostPop30Data = country.sort_values(\"GNP\", ascending = False).head(30)\n",
    "\n",
    "plt.figure(figsize = (10, 10))\n",
    "sns.barplot(x = mostPop30Data[\"GNP\"], y = mostPop30Data[\"Country\"])\n",
    "plt.xticks(rotation = 90)\n",
    "plt.title(\"Top 30 Countries with the Highest GNP\")\n",
    "plt.xlabel(\"GNP\")\n",
    "plt.ylabel(\"Countries\")\n",
    "plt.show()"
   ]
  },
  {
   "cell_type": "code",
   "execution_count": null,
   "metadata": {},
   "outputs": [],
   "source": [
    "df=df[df!=0].dropna()\n",
    "\n",
    "#BAR GRAPH OF BOTTOM 30 COUNTRIES WITH LOWEST GNP\n",
    "mostPop30Data = df.sort_values(\"GNP\", ascending = True).head(30)\n",
    "\n",
    "plt.figure(figsize = (10, 10))\n",
    "sns.barplot(x = mostPop30Data[\"GNP\"], y = mostPop30Data[\"Country\"])\n",
    "plt.xticks(rotation = 90)\n",
    "plt.title(\"Bottom 30 Countries with the Lowest GNP\")\n",
    "plt.xlabel(\"GNP\")\n",
    "plt.ylabel(\"Countries\")\n",
    "plt.show()"
   ]
  },
  {
   "cell_type": "code",
   "execution_count": null,
   "metadata": {},
   "outputs": [],
   "source": [
    "#BAR GRAPH OF TOP 30 COUNTRIES WITH HIGHEST POPULATIONS\n",
    "mostPop30Data = country.sort_values(\"Population\", ascending = False).head(30)\n",
    "\n",
    "plt.figure(figsize = (10, 10))\n",
    "sns.barplot(x = mostPop30Data[\"Population\"], y = mostPop30Data[\"Country\"])\n",
    "plt.xticks(rotation = 90)\n",
    "plt.title(\"Top 30 Countries with the Highest Populations\")\n",
    "plt.xlabel(\"Population (in billion)\")\n",
    "plt.ylabel(\"countries\")\n",
    "plt.show()"
   ]
  },
  {
   "cell_type": "code",
   "execution_count": null,
   "metadata": {},
   "outputs": [],
   "source": [
    "#BAR GRAPH OF CONTINENTAL POPULATION\n",
    "mostPopData = df.sort_values(\"Population\", ascending = False)\n",
    "\n",
    "plt.figure(figsize = (10, 10))\n",
    "sns.barplot(x = mostPopData[\"Population\"], y = mostPopData[\"Continent\"])\n",
    "plt.xticks(rotation = 90)\n",
    "plt.title(\"Population per Continent\")\n",
    "plt.xlabel(\"Population\")\n",
    "plt.ylabel(\"Continent\")\n",
    "plt.show()"
   ]
  },
  {
   "cell_type": "code",
   "execution_count": null,
   "metadata": {},
   "outputs": [],
   "source": [
    "plt.figure(figsize=(12,8))\n",
    "sns.barplot(data = df.nlargest(10, 'City_Population'), y = 'City', x = 'City_Population', palette='magma')\n",
    "plt.title(\"TOP 10 Biggest Cities\", size=16)\n",
    "plt.xlabel(xlabel='Population', fontsize=14)\n",
    "plt.show()"
   ]
  },
  {
   "cell_type": "code",
   "execution_count": null,
   "metadata": {},
   "outputs": [],
   "source": [
    "#SIDE BAR GRAPH OF TOP 30 COUNTRIES WITH LARGEST AREA\n",
    "largeArea30Data = country.sort_values(\"SurfaceArea\", ascending = False).head(30)\n",
    "\n",
    "plt.figure(figsize = (5, 10))\n",
    "sns.barplot(x = largeArea30Data[\"SurfaceArea\"], y = largeArea30Data[\"Country\"])\n",
    "plt.title(\"Top 30 Countries with the Largest Area\")\n",
    "plt.xlabel(\"Area\")\n",
    "plt.ylabel(\"Countries\")\n",
    "plt.show()"
   ]
  },
  {
   "cell_type": "code",
   "execution_count": null,
   "metadata": {},
   "outputs": [],
   "source": [
    "#BAR GRAPH OF NUMBER OF COUNTRIES BY CONTINENT\n",
    "continent = country.Continent.value_counts()\n",
    "plt.figure(figsize=(10,7))\n",
    "sns.barplot(x=continent.index,y=continent.values)\n",
    "plt.xticks(rotation=45)\n",
    "plt.ylabel('Number of countries')\n",
    "plt.xlabel('Continent')\n",
    "plt.title('Number of Countries by Continent',color = 'black',fontsize=20)"
   ]
  },
  {
   "cell_type": "markdown",
   "metadata": {},
   "source": [
    "## <a name=\"p6\">Visualization with Plotly</a>"
   ]
  },
  {
   "cell_type": "code",
   "execution_count": null,
   "metadata": {},
   "outputs": [],
   "source": [
    "#Population per country\n",
    "z = dict(type='choropleth',\n",
    "            locations = df.Country,\n",
    "            locationmode = 'country names', z = df.Population,\n",
    "            text = df.Country, colorbar = {'title':'Population'},\n",
    "            colorscale = 'Blackbody', reversescale = True)\n",
    "\n",
    "layout = dict(title='Population per country',\n",
    "geo = dict(showframe=False,projection={'type':'natural earth'}))\n",
    "choromap = go.Figure(data = [z],layout = layout)\n",
    "iplot(choromap,validate=False)"
   ]
  },
  {
   "cell_type": "code",
   "execution_count": null,
   "metadata": {},
   "outputs": [],
   "source": [
    "#GNP per country\n",
    "z = dict(type='choropleth',\n",
    "locations = df.Country,\n",
    "locationmode = 'country names', z = df.GNP,\n",
    "text = df.Country, colorbar = {'title':'GNP per country'},\n",
    "colorscale = 'Hot', reversescale = True)\n",
    "layout = dict(title='GDP per Capita of World Countries',\n",
    "geo = dict(showframe=False,projection={'type':'natural earth'}))\n",
    "choromap = go.Figure(data = [z],layout = layout)\n",
    "iplot(choromap,validate=False)"
   ]
  },
  {
   "cell_type": "code",
   "execution_count": null,
   "metadata": {},
   "outputs": [],
   "source": [
    "#Area per country\n",
    "z = dict(type='choropleth',\n",
    "            locations = df.Country,\n",
    "            locationmode = 'country names', z = df.SurfaceArea,\n",
    "            text = df.Country, colorbar = {'title':'Total Area'},\n",
    "            colorscale = 'Blackbody', reversescale = True)\n",
    "\n",
    "layout = dict(title='Area per country',\n",
    "geo = dict(showframe=False,projection={'type':'natural earth'}))\n",
    "choromap = go.Figure(data = [z],layout = layout)\n",
    "iplot(choromap,validate=False)"
   ]
  },
  {
   "cell_type": "code",
   "execution_count": null,
   "metadata": {},
   "outputs": [],
   "source": [
    "#Life Expectancy per country\n",
    "z = dict(type='choropleth',\n",
    "            locations = df.Country,\n",
    "            locationmode = 'country names', z = df.LifeExpectancy,\n",
    "            text = df.Country, colorbar = {'title':'Life Expectancy'},\n",
    "            colorscale = 'Blackbody', reversescale = True)\n",
    "\n",
    "layout = dict(title='Life Expectancy per country',\n",
    "geo = dict(showframe=False,projection={'type':'natural earth'}))\n",
    "choromap = go.Figure(data = [z],layout = layout)\n",
    "iplot(choromap,validate=False)"
   ]
  },
  {
   "cell_type": "code",
   "execution_count": null,
   "metadata": {},
   "outputs": [],
   "source": []
  },
  {
   "cell_type": "markdown",
   "metadata": {},
   "source": [
    "# Thank you so much, I hope you like it :)"
   ]
  }
 ],
 "metadata": {
  "kernelspec": {
   "display_name": "Python 3",
   "language": "python",
   "name": "python3"
  },
  "language_info": {
   "codemirror_mode": {
    "name": "ipython",
    "version": 3
   },
   "file_extension": ".py",
   "mimetype": "text/x-python",
   "name": "python",
   "nbconvert_exporter": "python",
   "pygments_lexer": "ipython3",
   "version": "3.8.5"
  }
 },
 "nbformat": 4,
 "nbformat_minor": 4
}
